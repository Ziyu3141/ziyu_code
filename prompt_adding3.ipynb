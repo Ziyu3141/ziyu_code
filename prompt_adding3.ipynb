{
  "nbformat": 4,
  "nbformat_minor": 0,
  "metadata": {
    "colab": {
      "provenance": [],
      "authorship_tag": "ABX9TyMEJlqHZEZKcDSB35ex+9e2",
      "include_colab_link": true
    },
    "kernelspec": {
      "name": "python3",
      "display_name": "Python 3"
    },
    "language_info": {
      "name": "python"
    }
  },
  "cells": [
    {
      "cell_type": "markdown",
      "metadata": {
        "id": "view-in-github",
        "colab_type": "text"
      },
      "source": [
        "<a href=\"https://colab.research.google.com/github/Ziyu3141/ziyu_code/blob/main/prompt_adding3.ipynb\" target=\"_parent\"><img src=\"https://colab.research.google.com/assets/colab-badge.svg\" alt=\"Open In Colab\"/></a>"
      ]
    },
    {
      "cell_type": "code",
      "execution_count": null,
      "metadata": {
        "id": "u2NeSSAWvXVg"
      },
      "outputs": [],
      "source": [
        "####Importing huggingface_hub\n",
        "\n",
        "!pip install datasets huggingface_hub"
      ]
    },
    {
      "cell_type": "code",
      "source": [
        "#import tensorflow as tf\n",
        "from datasets import Dataset, concatenate_datasets, load_dataset\n",
        "from collections import defaultdict\n",
        "import time\n",
        "#from huggingface_hub import notebook_login\n",
        "from tqdm import tqdm\n",
        "import json\n",
        "\n",
        "#### Finishing alarm of the code\n",
        "\n",
        "import numpy as np"
      ],
      "metadata": {
        "id": "XUn8SL_xvcUm"
      },
      "execution_count": null,
      "outputs": []
    },
    {
      "cell_type": "code",
      "source": [
        "ds_test = load_dataset( \"ziyu3141/rf_newconcat_test_6\", split=\"train\" )"
      ],
      "metadata": {
        "id": "aUrhTSgIvjw7"
      },
      "execution_count": null,
      "outputs": []
    },
    {
      "cell_type": "code",
      "source": [
        "ds_name = ds_test[\"Filename\"]\n",
        "set_name = set(ds_name)\n",
        "ds_size = len(ds_name)\n",
        "\n",
        "for i in tqdm( range(ds_size) ):\n",
        "    ds_name[i] = ds_name[i][6:-4]\n",
        "\n",
        "dict_name_prompt = dict()"
      ],
      "metadata": {
        "id": "HkWbNd33vmzq"
      },
      "execution_count": null,
      "outputs": []
    },
    {
      "cell_type": "code",
      "source": [
        "dataset_pap = load_dataset(\"yuvalkirstain/pickapic_v1\", split=\"train\", streaming=True)"
      ],
      "metadata": {
        "id": "KHj5-wigvw9b"
      },
      "execution_count": null,
      "outputs": []
    },
    {
      "cell_type": "code",
      "source": [
        "for example in tqdm(dataset_pap):\n",
        "    name_0 = example[\"image_0_uid\"]\n",
        "    name_1 = example[\"image_1_uid\"]\n",
        "    prompt = example[\"caption\"]\n",
        "    if name_0 in set_name:\n",
        "        dict_name_prompt[name_0] = prompt\n",
        "    if name_1 in set_name:\n",
        "        dict_name_prompt[name_1] = prompt"
      ],
      "metadata": {
        "id": "gU_CMjlmvzbh"
      },
      "execution_count": null,
      "outputs": []
    },
    {
      "cell_type": "code",
      "source": [
        "list_prompt = []\n",
        "\n",
        "for i in tqdm( range(ds_size) ):\n",
        "    name = ds_name[i]\n",
        "    if name in dict_name_prompt:\n",
        "        prompt = dict_name_prompt[name]\n",
        "        list_prompt.append(prompt)\n",
        "    else:\n",
        "        list_prompt.append(None)"
      ],
      "metadata": {
        "id": "tEpx9RtLv2JO"
      },
      "execution_count": null,
      "outputs": []
    },
    {
      "cell_type": "code",
      "source": [
        "dataset_new = ds_test.add_column(\"prompt\", list_prompt)\n",
        "\n",
        "dataset_new.push_to_hub(\"ziyu3141/rf_withprompt_test_8\")"
      ],
      "metadata": {
        "id": "WySGJsL5zwAj"
      },
      "execution_count": null,
      "outputs": []
    }
  ]
}